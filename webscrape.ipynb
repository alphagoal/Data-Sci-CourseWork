{
  "cells": [
    {
      "cell_type": "code",
      "execution_count": 1,
      "metadata": {
        "colab": {
          "base_uri": "https://localhost:8080/"
        },
        "id": "kqZRuKZi85-r",
        "outputId": "67f4466c-3826-47cd-aa10-5e248ba07912"
      },
      "outputs": [
        {
          "name": "stdout",
          "output_type": "stream",
          "text": [
            "[['hka', '26.2', '64', 'S', '21', '28.6', '20.9', '+3.4', '34', '1014.3', '', ''], ['cch', '25.5', '74', 'E', '25', '26.1', '19.6', '+4.0', '28', '1014.3', '', ''], ['cwb', '22.0', '84', '', '', '23.3', '18.1', '+3.5', '', '', '', ''], ['hpv', '26.2', '', '', '', '27.0', '20.0', '+4.2', '', '', '', ''], ['hko', '23.5', '80', '', '', '23.6', '19.9', '+2.7', '', '1014.3', '', ''], ['hkp', '24.5', '72', '', '', '25.2', '19.4', '+4.2', '', '', '', ''], ['ksc', '', '', '', '', '', '', '', '', '', '', ''], ['kp', '23.6', '77', 'E', '16', '24.4', '19.3', '+2.7', '24', '', '20.4', '19.3'], ['klt', '25.6', '70', '', '', '27.0', '18.8', '+5.5', '', '', '', ''], ['ktg', '23.9', '', '', '', '25.4', '18.8', '+4.4', '', '', '', ''], ['lfs', '28.7', '56', 'S', '20', '30.0', '19.2', '+2.7', '36', '1014.2', '', ''], ['ngp', '19.2', '', 'SW', '27', '21.4', '16.9', '', '48', '', '', ''], ['tyw', '23.9', '77', '', '', '24.1', '18.2', '+4.1', '', '', '', ''], ['pen', '26.1', '71', 'SE', '9', '26.3', '20.0', '+5.4', '17', '1014.2', '', ''], ['skg', '23.4', '78', 'S', '13', '23.4', '19.0', '+4.2', '17', '', '', ''], ['sha', '25.3', '74', 'E', '12', '26.8', '20.0', '+4.6', '20', '1014.3', '', ''], ['ssp', '26.3', '', '', '', '26.7', '20.2', '+4.5', '', '', '', ''], ['skw', '22.1', '85', '', '', '23.4', '18.4', '+3.3', '', '', '', ''], ['sek', '26.5', '57', 'SE', '10', '27.6', '20.0', '+3.5', '24', '1013.8', '', ''], ['ssh', '25.8', '67', '', '', '25.9', '19.4', '+4.4', '', '1014.3', '', ''], ['sty', '24.5', '', '', '', '25.0', '19.3', '+3.6', '', '', '', ''], ['tkl', '27.4', '58', 'S', '10', '28.7', '19.2', '+5.8', '20', '1014.1', '20.2', '18.0'], ['plc', '25.0', '', 'E', '11', '26.8', '19.1', '+2.8', '13', '', '', ''], ['tms', '17.0', '', '', '', '18.6', '13.8', '+1.5', '', '', '15.5', '14.3'], ['tpo', '23.3', '81', '', '', '23.6', '19.4', '+2.6', '', '1015.1', '', ''], ['tc', '22.5', '', 'S', '16', '22.6', '16.3', '+8.2', '30', '', '', ''], ['vp1', '25.8', '', '', '', '25.8', '17.7', '+6.2', '', '', '', ''], ['cp1', '', '', 'E', '13', '', '', '', '19', '', '', ''], ['jkb', '22.7', '84', 'E', '9', '23.4', '18.8', '+3.0', '15', '', '', ''], ['ty1', '27.2', '60', 'SE', '10', '27.6', '20.2', '+5.8', '19', '', '', ''], ['twn', '26.9', '59', '', '', '27.2', '19.2', '+5.8', '', '', '', ''], ['tw', '28.3', '58', '', '', '28.5', '19.6', '+6.8', '', '', '', ''], ['tun', '25.7', '61', 'SE', '15', '25.9', '20.3', '+4.5', '26', '', '', ''], ['wgl', '22.9', '81', 'NE', '10', '23.6', '18.8', '+3.7', '14', '1015.0', '', ''], ['wlp', '28.2', '59', 'SE', '10', '29.3', '19.8', '+2.3', '23', '1013.8', '', ''], ['hks', '25.9', '71', 'SE', '12', '26.1', '20.7', '+4.4', '21', '', '', ''], ['wts', '24.8', '', '', '', '26.2', '19.8', '+3.9', '', '', '', ''], ['ylp', '27.5', '', '', '', '28.7', '19.5', '+3.4', '', '', '', ''], ['gi', '', '', 'S', '21', '', '', '', '28', '', '', ''], ['se', '', '', 'SE', '15', '', '', '', '21', '', '', ''], ['lam', '', '', 'E', '14', '', '', '', '27', '', '', ''], ['np1', '', '', 'E', '21', '', '', '', '24', '', '', ''], ['sc', '', '', 'S', '18', '', '', '', '24', '', '', ''], ['sf', '', '', 'E', '12', '', '', '', '23', '', '', ''], ['tpk', '', '', '', '', '', '', '', '', '', '', ''], ['tap', '', '', 'SE', '17', '', '', '', '25', '', '', ''], ['tls', '26.4', '65', '', '', '26.8', '19.9', '+3.8', '', '', '', ''], ['ccb', '', '', 'E', '24', '', '', '', '30', '', '', ''], ['hss', '', '', 'E', '12', '', '', '', '17', '', '', '']]\n"
          ]
        }
      ],
      "source": [
        "import requests\n",
        "import re\n",
        "\n",
        "r1 = requests.get('https://www.hko.gov.hk/wxinfo/json/region.json')\n",
        "dict1=r1.json()['datas']\n",
        "print(dict1)"
      ]
    },
    {
      "cell_type": "code",
      "execution_count": 6,
      "metadata": {},
      "outputs": [
        {
          "name": "stdout",
          "output_type": "stream",
          "text": [
            "{'hka': ['hka', '21.0', '84', 'E', '23', '21.6', '20.9', '+1.8', '29', '1015.1', '', ''], 'cch': ['cch', '19.7', '95', 'E', '12', '19.7', '19.6', '+1.6', '18', '1015.1', '', ''], 'cwb': ['cwb', '18.6', '94', '', '', '18.7', '18.1', '+1.6', '', '', '', ''], 'hpv': ['hpv', '20.6', '', '', '', '20.8', '20.5', '+2.4', '', '', '', ''], 'hko': ['hko', '20.1', '91', '', '', '20.2', '19.9', '+1.7', '', '1015.3', '', ''], 'hkp': ['hkp', '19.6', '92', '', '', '19.7', '19.5', '+1.6', '', '', '', ''], 'ksc': ['ksc', '', '', '', '', '', '', '', '', '', '', ''], 'kp': ['kp', '19.5', '93', 'SE', '8', '19.6', '19.4', '+1.8', '12', '', '19.6', '19.4'], 'klt': ['klt', '19.2', '93', '', '', '19.7', '19.2', '+1.9', '', '', '', ''], 'ktg': ['ktg', '19.4', '', '', '', '19.4', '18.9', '+2.6', '', '', '', ''], 'lfs': ['lfs', '20.3', '91', 'SE', '18', '20.5', '19.2', '+2.1', '22', '1014.9', '', ''], 'ngp': ['ngp', '17.2', '', 'SW', '23', '17.3', '16.9', '+2.8', '51', '', '', ''], 'tyw': ['tyw', '18.2', '97', '', '', '18.3', '18.2', '+1.4', '', '', '', ''], 'pen': ['pen', '20.1', '91', 'E', '7', '20.3', '20.0', '+1.7', '12', '1015.1', '', ''], 'skg': ['skg', '19.4', '92', 'SW', '1', '19.4', '19.0', '+1.9', '4', '', '', ''], 'sha': ['sha', '20.1', '92', 'NE', '4', '20.4', '20.0', '+2.2', '11', '1015.3', '', ''], 'ssp': ['ssp', '20.7', '', '', '', '20.7', '20.5', '+2.2', '', '', '', ''], 'skw': ['skw', '18.9', '96', '', '', '18.9', '18.4', '+1.8', '', '', '', ''], 'sek': ['sek', '20.5', '87', 'Variable', '7', '20.7', '20.2', '+1.4', '12', '1015.0', '', ''], 'ssh': ['ssh', '19.7', '91', '', '', '19.8', '19.4', '+1.1', '', '1015.2', '', ''], 'sty': ['sty', '19.8', '', '', '', '19.8', '19.3', '+2.1', '', '', '', ''], 'tkl': ['tkl', '19.4', '90', 'SE', '5', '19.5', '19.2', '+1.6', '11', '1015.4', '19.5', '18.0'], 'plc': ['plc', '19.4', '', 'NE', '6', '19.4', '19.1', '+1.6', '11', '', '', ''], 'tms': ['tms', '15.0', '', '', '', '15.1', '14.6', '+3.1', '', '', '15.6', '14.3'], 'tpo': ['tpo', '19.5', '94', '', '', '19.5', '19.4', '+1.1', '', '1015.8', '', ''], 'tc': ['tc', '16.9', '', 'S', '24', '17.0', '16.3', '+3.5', '35', '', '', ''], 'vp1': ['vp1', '18.1', '', '', '', '18.1', '17.7', '+3.1', '', '', '', ''], 'cp1': ['cp1', '', '', 'E', '10', '', '', '', '18', '', '', ''], 'jkb': ['jkb', '19.1', '98', 'NW', '1', '19.2', '18.8', '+1.5', '4', '', '', ''], 'ty1': ['ty1', '20.8', '87', 'E', '10', '20.8', '20.6', '+2.3', '18', '', '', ''], 'twn': ['twn', '19.8', '90', '', '', '19.8', '19.4', '+2.5', '', '', '', ''], 'tw': ['tw', '20.4', '89', '', '', '20.5', '20.2', '+2.5', '', '', '', ''], 'tun': ['tun', '20.5', '80', 'S', '5', '20.6', '20.4', '+1.5', '10', '', '', ''], 'wgl': ['wgl', '18.9', '95', 'N', '12', '19.4', '18.8', '+1.2', '17', '1015.6', '', ''], 'wlp': ['wlp', '20.6', '94', 'SE', '3', '21.0', '19.9', '+0.5', '5', '1015.3', '', ''], 'hks': ['hks', '21.4', '86', 'SE', '5', '21.4', '20.8', '+3.0', '12', '', '', ''], 'wts': ['wts', '20.3', '', '', '', '20.4', '20.2', '+2.2', '', '', '', ''], 'ylp': ['ylp', '20.3', '', '', '', '20.6', '20.1', '+1.3', '', '', '', ''], 'gi': ['gi', '', '', 'SE', '10', '', '', '', '19', '', '', ''], 'se': ['se', '', '', 'SE', '7', '', '', '', '10', '', '', ''], 'lam': ['lam', '', '', 'E', '10', '', '', '', '20', '', '', ''], 'np1': ['np1', '', '', 'E', '5', '', '', '', '9', '', '', ''], 'sc': ['sc', '', '', 'SE', '22', '', '', '', '28', '', '', ''], 'sf': ['sf', '', '', 'E', '10', '', '', '', '17', '', '', ''], 'tpk': ['tpk', '', '', '', '', '', '', '', '', '', '', ''], 'tap': ['tap', '', '', 'W', '3', '', '', '', '4', '', '', ''], 'tls': ['tls', '20.1', '95', '', '', '20.1', '19.9', '+1.4', '', '', '', ''], 'ccb': ['ccb', '', '', 'N', '10', '', '', '', '14', '', '', ''], 'hss': ['hss', '', '', 'NE', '12', '', '', '', '18', '', '', '']}\n"
          ]
        },
        {
          "data": {
            "text/plain": [
              "['hko', '20.1', '91', '', '', '20.2', '19.9', '+1.7', '', '1015.3', '', '']"
            ]
          },
          "execution_count": 6,
          "metadata": {},
          "output_type": "execute_result"
        }
      ],
      "source": [
        "dict2={}\n",
        "for item in dict1:\n",
        "    dict2[item[0]]=item\n",
        "\n",
        "print(dict2)\n",
        "\n",
        "dict2['hko']"
      ]
    },
    {
      "cell_type": "code",
      "execution_count": 8,
      "metadata": {},
      "outputs": [
        {
          "data": {
            "text/plain": [
              "'20.0'"
            ]
          },
          "execution_count": 8,
          "metadata": {},
          "output_type": "execute_result"
        }
      ],
      "source": [
        "import requests\n",
        "response = requests.get('https://www.hko.gov.hk/wxinfo/json/one_json.xml')\n",
        "# response.content\n",
        "# response.status_code\n",
        "response.json()['hko']['Temperature']"
      ]
    },
    {
      "cell_type": "code",
      "execution_count": 36,
      "metadata": {},
      "outputs": [
        {
          "name": "stdout",
          "output_type": "stream",
          "text": [
            "Fetching page1\n",
            "Fetching page2\n",
            "Product list length is: 36\n"
          ]
        },
        {
          "data": {
            "text/plain": [
              "[['23670', 'RT-AX57-Go'],\n",
              " ['22456', 'RT-AX3000P'],\n",
              " ['21187', 'RT-AX5400'],\n",
              " ['21141', 'TUF-Gaming-AX6000'],\n",
              " ['21234', 'RT-AX59U'],\n",
              " ['20993', 'TUF-Gaming-AX4200'],\n",
              " ['20829', 'RT-AXE7800'],\n",
              " ['20362', 'RT-AX1800HP'],\n",
              " ['20363', 'RT-AX54HP'],\n",
              " ['20313', 'RT-AX1800U'],\n",
              " ['15583', 'RT-AX53U'],\n",
              " ['16806', 'TUF-Gaming-AX5400'],\n",
              " ['14715', 'RT-AX86U'],\n",
              " ['14629', 'RT-AX82U'],\n",
              " ['14874', 'RT-AX55'],\n",
              " ['12305', 'TUF-Gaming-AX3000'],\n",
              " ['15026', 'ASUS-ZenWiFi-AX-Hybrid-XP4'],\n",
              " ['15515', 'RT-AX82U-GUNDAM-EDITION'],\n",
              " ['12150', 'RT-AC750L'],\n",
              " ['14575', 'RT-AC59U-V2'],\n",
              " ['10941', 'RT-AC1200-V2'],\n",
              " ['12133', 'RT-AX89X'],\n",
              " ['12355', 'RT-AX3000'],\n",
              " ['12221', 'RT-AX58U'],\n",
              " ['12182', 'RT-AC1500UHP'],\n",
              " ['11066', 'RT-AC59U'],\n",
              " ['9912', 'RT-AX88U'],\n",
              " ['8580', 'RT-AC66U-B1'],\n",
              " ['8577', 'RT-AC53'],\n",
              " ['8537', 'RT-N12-plus-B1'],\n",
              " ['12279', 'RT-AX56U'],\n",
              " ['12118', 'RT-AX92U'],\n",
              " ['9372', 'RT-AC86U'],\n",
              " ['9482', 'Blue-Cave'],\n",
              " ['8853', 'BRT-AC828'],\n",
              " ['6026', 'RTAC68U']]"
            ]
          },
          "execution_count": 36,
          "metadata": {},
          "output_type": "execute_result"
        }
      ],
      "source": [
        "prod_list=[]\n",
        "page=1\n",
        "\n",
        "while True:\n",
        "\n",
        "    print(f\"Fetching page{page}\")\n",
        "\n",
        "    url=\"https://odinapi.asus.com/recent-data/apiv2/SeriesFilterResult?\"+\\\n",
        "        \"SystemCode=asus&WebsiteCode=hk-en&ProductLevel1Code=networking-iot-servers&\"+\\\n",
        "        f\"ProductLevel2Code=wifi-routers&PageSize=20&PageIndex={page}&CategoryName=&SeriesName=\"+\\\n",
        "        \"ASUS-WiFi-Routers&SubSeriesName=&Spec=&SubSpec=&PriceMin=&PriceMax=&Sort=Recommend&siteID=www&sitelang=\"\n",
        "    \n",
        "    \n",
        "    response2=requests.get(url,headers={\n",
        "        \"User-Agent\":\"Mozilla/5.0 (Windows NT 10.0; Win64; x64) AppleWebKit/537.36 (KHTML, like Gecko) Chrome/121.0.0.0 Safari/537.36\"\n",
        "        })\n",
        "    # response2 #if shows [401] --> detects you are a scraper and denies your access\n",
        "\n",
        "    for item in response2.json()['Result']['ProductList']:\n",
        "        prod_list.append([item['ProductID'],item['PDWebPath']])\n",
        "    \n",
        "    page+=1\n",
        "\n",
        "    if len(prod_list)>= response2.json()['Result']['TotalCount']:\n",
        "        break\n",
        "\n",
        "print(\"Product list length is:\",len(prod_list))\n",
        "prod_list\n",
        "\n"
      ]
    },
    {
      "cell_type": "code",
      "execution_count": 62,
      "metadata": {},
      "outputs": [
        {
          "name": "stdout",
          "output_type": "stream",
          "text": [
            "240\n",
            "['Lohas Park – Lohas Park・Phase 7B Grand Montara・Tower 1 (1A) High Floor・FLAT B', 'Lohas Park – Lohas Park・Phase 5A Malibu・Tower 2A Middle Floor・FLAT D', 'Lohas Park – Lohas Park・Phase 2C La Splendeur・Tower 11 Low Floor・FLAT LD', 'Lohas Park – Lohas Park・PHASE 6 LP6・Tower 5 Middle Floor・FLAT B', 'Lohas Park – LOHAS PARK・LOHAS PARK・TOWER 5 Middle Floor・FLAT G', 'Lohas Park – Lohas Park・PHASE 6 LP6・Tower 3 Low Floor・FLAT J', 'Lohas Park – LOHAS PARK・LOHAS PARK・TOWER 2 (2B) High Floor・FLAT A', 'Lohas Park – Lohas Park・Phase 2A  Le Prestige・Four Seasons (Tower 3 - L Wing) FLAT D', 'Lohas Park – Lohas Park・Phase 2A  Le Prestige・Water Lilies (Tower 5 - R Wing) Low Floor・FLAT C', 'Lohas Park – Lohas Park・Phase 2C La Splendeur・Tower 9 Low Floor・FLAT RA', 'Lohas Park – LOHAS PARK・LOHAS PARK・EMERALD (TOWER 2) High Floor・FLAT LD', 'Lohas Park – Lohas Park・Phase 7B Grand Montara・Tower 1 (1B) High Floor・FLAT A', 'Lohas Park – Lohas Park・PHASE 6 LP6・Tower 1 Low Floor・FLAT K', 'Lohas Park – Lohas Park・PHASE 6 LP6・Tower 3 Low Floor・FLAT C', 'Lohas Park – Lohas Park・Phase 1 The Capitol・Montreal (Tower 3 - R Wing) Middle Floor・FLAT C', 'Lohas Park – Lohas Park・Phase 7B Grand Montara・Tower 1 (1A) High Floor・FLAT C', 'Lohas Park – Lohas Park・PHASE 6 LP6・Tower 5 Middle Floor・FLAT K', 'Lohas Park – Lohas Park・PHASE 6 LP6・Tower 3 Low Floor・FLAT M', 'Lohas Park – LOHAS PARK・LOHAS PARK・TOWER 2 (2A) High Floor・FLAT C', 'Lohas Park – Lohas Park・Phase 4B Wings At Sea II・Tower 5A Middle Floor・FLAT B', 'Lohas Park – LOHAS PARK・LOHAS PARK・TOWER 2B Middle Floor・FLAT E', 'Lohas Park – Lohas Park・PHASE 6 LP6・Tower 1 Low Floor・FLAT D', 'Lohas Park – LOHAS PARK・LOHAS PARK ', 'Lohas Park – LOHAS PARK・LOHAS PARK・TOWER 5A High Floor・FLAT E', 'Lohas Park – LOHAS PARK・LOHAS PARK・TOWER 2B High Floor・FLAT B', 'Lohas Park – Lohas Park・Phase 7B Grand Montara・Tower 1 (1B) Low Floor・FLAT E', 'Lohas Park – Lohas Park・Phase 4B Wings At Sea II・Tower 3B High Floor・FLAT F', 'Lohas Park – Lohas Park・Phase 1 The Capitol・Montreal (Tower 3 - R Wing) High Floor・FLAT D', 'Lohas Park – Lohas Park・PHASE 6 LP6・Tower 1 Low Floor・FLAT J', 'Lohas Park – LOHAS PARK・LOHAS PARK・TOWER 8 - L WING Middle Floor・FLAT D', 'Lohas Park – Lohas Park・Phase 2C La Splendeur・Tower 9 High Floor・FLAT LA', 'Lohas Park – Lohas Park・Phase 1 The Capitol・Montreal (Tower 3 - R Wing) Middle Floor・FLAT D', 'Lohas Park – LOHAS PARK・LOHAS PARK・TOWER 5 High Floor・FLAT J', 'Lohas Park – Lohas Park・Phase 3A Hemera・Diamond (Tower 1) High Floor・FLAT RC', 'Lohas Park – LOHAS PARK・LOHAS PARK・TOWER 3 (3A) Low Floor・FLAT C', 'Lohas Park – Lohas Park・Phase 7B Grand Montara・Tower 1 (1A) High Floor・FLAT D', 'Lohas Park – Lohas Park・Phase 9C Ocean Marini・Tower 1 (1A) Low Floor・FLAT D', 'Lohas Park – Lohas Park・PHASE 6 LP6・Tower 3 Low Floor・FLAT C', 'Lohas Park – Lohas Park・Phase 9A Marini・Tower 3 (3B) Low Floor・FLAT F', 'Lohas Park – Lohas Park・Phase 7A Montara・Tower 2 (2A) Middle Floor・FLAT D', 'Lohas Park – LOHAS PARK・LOHAS PARK・TOWER 1 (1B) Low Floor・FLAT E', 'Lohas Park – Lohas Park・PHASE 6 LP6・Tower 3 Middle Floor・FLAT B', 'Lohas Park – Lohas Park・Phase 5A Malibu・Tower 3A High Floor・FLAT B', 'Lohas Park – Lohas Park・Phase 7A Montara・Tower 2 (2A) High Floor・FLAT A', 'Lohas Park – Lohas Park・Phase 7A Montara・Tower 2 (2B) Middle Floor・FLAT C', 'Lohas Park – LOHAS PARK・LOHAS PARK・EMERALD (TOWER 2) High Floor・FLAT LB', 'Lohas Park – Lohas Park・Phase 4B Wings At Sea II・Tower 5B Middle Floor・FLAT F', 'Lohas Park – Lohas Park・Phase 2B Le Prime・Tower 8 - R Wing High Floor・FLAT A', 'Lohas Park – LOHAS PARK・LOHAS PARK・TOWER 3 (3A) Middle Floor・FLAT A', 'Lohas Park – Lohas Park・Phase 10 Lp10・Tower 2 (2B) Low Floor・FLAT B', 'Lohas Park – LOHAS PARK・LOHAS PARK・LUCERNE (TOWER 2 - L WING) Low Floor・FLAT C', 'Lohas Park – LOHAS PARK・LOHAS PARK・TOWER 1A High Floor・FLAT D', 'Lohas Park – LOHAS PARK・LOHAS PARK・TOWER 1A Low Floor・FLAT C', 'Lohas Park – Lohas Park・Phase 7A Montara・Tower 2 (2A) High Floor・FLAT E', 'Lohas Park – Lohas Park・PHASE 6 LP6・Tower 5 Low Floor・FLAT K', 'Lohas Park – LOHAS PARK・LOHAS PARK・DIAMOND (TOWER 1) High Floor・FLAT RC', 'Lohas Park – Lohas Park・Phase 2C La Splendeur・Tower 9 High Floor・FLAT LD', 'Lohas Park – Lohas Park・Phase 2B Le Prime・Tower 6 - L Wing Middle Floor・FLAT D', 'Lohas Park – Lohas Park・Phase 9A Marini・Tower 3 (3B) Middle Floor・FLAT C', 'Lohas Park – LOHAS PARK・LOHAS PARK・TOWER 2B Low Floor・FLAT C', 'Lohas Park – Lohas Park・Phase 5A Malibu・Tower 1B Low Floor・FLAT B', 'Lohas Park – Lohas Park・Phase 9A Marini・Tower 3 (3A) High Floor・FLAT F', 'Lohas Park – LOHAS PARK・LOHAS PARK・AMBER (TOWER 3) High Floor・FLAT RB', 'Lohas Park – Lohas Park・PHASE 6 LP6・Tower 1 Low Floor・FLAT G', 'Lohas Park – Lohas Park・Phase 3A Hemera・Amber (Tower 3) Low Floor・FLAT RB', 'Lohas Park – Lohas Park・Phase 1 The Capitol・Milan (Tower 3 - L Wing) High Floor・FLAT B', 'Lohas Park – Lohas Park・Phase 4B Wings At Sea II・Tower 5A High Floor・FLAT C', 'Lohas Park – Lohas Park・Phase 9B Grand Marini・Tower 2 (2A) Middle Floor・FLAT D', 'Lohas Park – Lohas Park・Phase 5A Malibu・Tower 3B Low Floor・FLAT C', 'Lohas Park – Lohas Park・PHASE 6 LP6・Tower 1 Low Floor・FLAT C', 'Lohas Park – Lohas Park・Phase 10 Lp10・Tower 2 (2B) Middle Floor・FLAT D', 'Lohas Park – Lohas Park・Phase 1 The Capitol・Whistler (Tower 6 - R Wing) High Floor・FLAT B', 'Lohas Park – Lohas Park・Phase 1 The Capitol・Milan (Tower 3 - L Wing) High Floor・FLAT A', 'Lohas Park – Lohas Park・Phase 2A  Le Prestige・Mona Lisa (Tower 1 - R Wing) Middle Floor・FLAT A', 'Lohas Park – LOHAS PARK・LOHAS PARK・BLUE DANUBE (TOWER 5 - L WING) High Floor・FLAT A', 'Lohas Park – LOHAS PARK・LOHAS PARK High Floor', 'Lohas Park – Lohas Park・Phase 1 The Capitol・Venice (Tower 5 - R Wing) Low Floor・FLAT C', 'Lohas Park – LOHAS PARK・LOHAS PARK・TOWER 3B High Floor・FLAT A', 'Lohas Park – Lohas Park・PHASE 6 LP6・Tower 3 Low Floor・FLAT K', 'Lohas Park – Lohas Park・PHASE 6 LP6・Tower 3 Middle Floor・FLAT C', 'Lohas Park – Lohas Park・Phase 9B Grand Marini・Tower 2 (2B) Middle Floor・FLAT C', 'Lohas Park – LOHAS PARK・LOHAS PARK・TOWER 1 Low Floor・FLAT D', 'Lohas Park – Lohas Park・Phase 5A Malibu・Tower 1A Middle Floor・FLAT B', 'Lohas Park – Lohas Park・Phase 8 Sea To Sky・Tower 1 Middle Floor・FLAT A', 'Lohas Park – LOHAS PARK・LOHAS PARK・TOWER 2 (2B) Low Floor・FLAT D', 'Lohas Park – LOHAS PARK・LOHAS PARK・TOWER 8 - R WING FLAT C', 'Lohas Park – LOHAS PARK・LOHAS PARK・TOWER 3 High Floor・FLAT M', 'Lohas Park – Lohas Park・Phase 7A Montara・Tower 2 (2A) High Floor・FLAT C', 'Lohas Park – Lohas Park・Phase 5A Malibu・Tower 3B Low Floor・FLAT E', 'Lohas Park – Lohas Park・PHASE 6 LP6・Tower 3 Low Floor・FLAT L', 'Lohas Park – Lohas Park・PHASE 6 LP6・Tower 2 Low Floor・FLAT F', 'Lohas Park – LOHAS PARK・LOHAS PARK・TOWER 1 Middle Floor・FLAT J', 'Lohas Park – Lohas Park・Phase 1 The Capitol・Oslo (Tower 5 - L Wing) Low Floor・FLAT C', 'Lohas Park – LOHAS PARK・LOHAS PARK・TOWER 3B High Floor・FLAT E', 'Lohas Park – LOHAS PARK・LOHAS PARK・DIAMOND (TOWER 1) Middle Floor・FLAT LA', 'Lohas Park – Lohas Park・Phase 10 Lp10・Tower 2 (2B) Low Floor・FLAT E', 'Lohas Park – Lohas Park・PHASE 6 LP6・Tower 3 Low Floor・FLAT F', 'Lohas Park – Lohas Park・Phase 5A Malibu・Tower 3A Middle Floor・FLAT C', 'Lohas Park – LOHAS PARK・LOHAS PARK・TOWER 1A Low Floor・FLAT E', 'Lohas Park – LOHAS PARK・LOHAS PARK・TOWER 5 Low Floor・FLAT K', 'Lohas Park – Lohas Park・Phase 1 The Capitol・Milan (Tower 3 - L Wing) Low Floor・FLAT B', 'Lohas Park – Lohas Park・Phase 8 Sea To Sky・Tower 1 High Floor・FLAT E', 'Lohas Park – Lohas Park・PHASE 6 LP6・Tower 5 High Floor・FLAT J', 'Lohas Park – Lohas Park・PHASE 6 LP6・Tower 3 High Floor・FLAT F', 'Lohas Park – Lohas Park・PHASE 6 LP6・Tower 5 Low Floor・FLAT G', 'Lohas Park – LOHAS PARK・LOHAS PARK・TOWER 9 Low Floor・FLAT LC', 'Lohas Park – Lohas Park・PHASE 6 LP6・Tower 5 Low Floor・FLAT C', 'Lohas Park – Lohas Park・Phase 2A  Le Prestige・Blue Danube (Tower 5 - L Wing) Low Floor・FLAT D', 'Lohas Park – Lohas Park・PHASE 6 LP6・Tower 1 Middle Floor・FLAT C', 'Lohas Park – LOHAS PARK・LOHAS PARK・TOWER 2 Middle Floor・FLAT E', 'Lohas Park – Lohas Park・PHASE 6 LP6・Tower 1 High Floor・FLAT E', 'Lohas Park – Lohas Park・Phase 8 Sea To Sky・Tower 3 High Floor・FLAT G', 'Lohas Park – LOHAS PARK・LOHAS PARK・TOWER 5B Middle Floor・FLAT F', 'Lohas Park – LOHAS PARK・LOHAS PARK・TOWER 2 (2A) Low Floor・FLAT A', 'Lohas Park – 日出康城・LOHAS PARK・TOWER 1A Middle Floor・FLAT D', 'Lohas Park – Lohas Park・PHASE 6 LP6・Tower 2 Low Floor・FLAT A', 'Lohas Park – Lohas Park・PHASE 6 LP6・Tower 1 Low Floor・FLAT D', 'Lohas Park – Lohas Park・Phase 4A Wings At Sea・Tower 1A Low Floor・FLAT E', 'Lohas Park – LOHAS PARK・LOHAS PARK・TOWER 2B Low Floor・FLAT D', 'Lohas Park – LOHAS PARK・LOHAS PARK・TOWER 6 - L WING Low Floor・FLAT A', 'Lohas Park – Lohas Park・PHASE 6 LP6・Tower 1 Low Floor・FLAT D', 'Lohas Park – Lohas Park・Phase 4A Wings At Sea・Tower 2A High Floor・FLAT B', 'Lohas Park – Lohas Park・Phase 2C La Splendeur・Tower 10 High Floor・FLAT LA', 'Lohas Park – Lohas Park・Phase 5A Malibu・Tower 2B Low Floor・FLAT C', 'Lohas Park – Lohas Park・Phase 1 The Capitol・Banff (Tower 1 - L Wing) High Floor・FLAT B', 'Lohas Park – Lohas Park・Phase 1 The Capitol・Florence (Tower 1 - R Wing) High Floor・FLAT B', 'Lohas Park – LOHAS PARK・LOHAS PARK・TOWER 3 (3B) Middle Floor・FLAT E', 'Lohas Park – Lohas Park・Phase 4B Wings At Sea II・Tower 5B Middle Floor・FLAT E', 'Lohas Park – LOHAS PARK・LOHAS PARK・TOWER 2 (2B) High Floor・FLAT F', 'Lohas Park – Lohas Park・Phase 5A Malibu・Tower 2B Middle Floor・FLAT E', 'Lohas Park – Lohas Park・Phase 7A Montara・Tower 2 (2A) Low Floor・FLAT B', 'Lohas Park – Lohas Park・Phase 2C La Splendeur・Tower 9 Middle Floor・FLAT RD', 'Lohas Park – Lohas Park・PHASE 6 LP6・Tower 3 Middle Floor・FLAT A', 'Lohas Park – Lohas Park・Phase 5A Malibu・Tower 3A High Floor・FLAT E', 'Lohas Park – LOHAS PARK・LOHAS PARK・TOWER 2 High Floor・FLAT B', 'Lohas Park – Lohas Park・Phase 8 Sea To Sky・Tower 1 Low Floor・FLAT B', 'Lohas Park – LOHAS PARK・LOHAS PARK・TOWER 1 (1A) Low Floor・FLAT C', 'Lohas Park – Lohas Park・Phase 2C La Splendeur・Tower 10 Low Floor・FLAT RA', 'Lohas Park – Lohas Park・Phase 2A  Le Prestige・Starry Night (Tower 3 - R Wing) Middle Floor・FLAT A', 'Lohas Park – Lohas Park・Phase 9A Marini・Tower 3 (3B) Low Floor・FLAT A', 'Lohas Park – Lohas Park・PHASE 6 LP6・Tower 3 High Floor・FLAT C', 'Lohas Park – LOHAS PARK・LOHAS PARK・TOWER 5B Low Floor・FLAT F', 'Lohas Park – Lohas Park・Phase 2C La Splendeur・Tower 9 High Floor・FLAT RC', 'Lohas Park – Lohas Park・Phase 5A Malibu・Tower 3A Middle Floor・FLAT C', 'Lohas Park – Lohas Park・Phase 2C La Splendeur・Tower 10 Low Floor・FLAT LA', 'Lohas Park – LOHAS PARK・LOHAS PARK・TOWER 3 (3A) Low Floor・FLAT D', 'Lohas Park – Lohas Park・PHASE 6 LP6・Tower 3 High Floor・FLAT A', 'Lohas Park – Lohas Park・Phase 1 The Capitol・Florence (Tower 1 - R Wing) High Floor・FLAT A', 'Lohas Park – 日出康城・LOHAS PARK・TOWER 3A Low Floor・FLAT D', 'Lohas Park – Lohas Park・Phase 1 The Capitol・Montreal (Tower 3 - R Wing) Middle Floor・FLAT B', 'Lohas Park – Lohas Park・Phase 5A Malibu・Tower 3A High Floor・FLAT C', 'Lohas Park – Lohas Park・Phase 4A Wings At Sea・Tower 1B High Floor・FLAT B', 'Lohas Park – Lohas Park・Phase 2B Le Prime・Tower 8 - L Wing Low Floor・FLAT B', 'Lohas Park – LOHAS PARK・LOHAS PARK・TOWER 3B Middle Floor・FLAT B', 'Lohas Park – Lohas Park・Phase 3A Hemera・Diamond (Tower 1) High Floor・FLAT LB', 'Lohas Park – LOHAS PARK・LOHAS PARK・TOWER 2 Middle Floor・FLAT G', 'Lohas Park – Lohas Park・PHASE 6 LP6・Tower 2 Low Floor・FLAT B', 'Lohas Park – Lohas Park・PHASE 6 LP6・Tower 3 High Floor・FLAT H', 'Lohas Park – Lohas Park・Phase 7A Montara・Tower 2 (2A) Low Floor・FLAT D', 'Lohas Park – Lohas Park・Phase 1 The Capitol・Lucerne (Tower 2 - L Wing) High Floor・FLAT A', 'Lohas Park – Lohas Park・Phase 5A Malibu・Tower 2B High Floor・FLAT C', 'Lohas Park – LOHAS PARK・LOHAS PARK・TOWER 5 High Floor・FLAT A', 'Lohas Park – Lohas Park・Phase 7A Montara・Tower 2 (2B) High Floor・FLAT E', 'Lohas Park – LOHAS PARK・LOHAS PARK・TOWER 2 (2A) High Floor・FLAT C', 'Lohas Park – LOHAS PARK・LOHAS PARK・AMBER (TOWER 3) High Floor・FLAT RB', 'Lohas Park – Lohas Park・Phase 3A Hemera・Topaz (Tower 5) Middle Floor・FLAT RD', 'Lohas Park – Lohas Park・Phase 4A Wings At Sea・Tower 1B Middle Floor・FLAT B', 'Lohas Park – Lohas Park・Phase 7B Grand Montara・Tower 1 (1B) High Floor・FLAT E', 'Lohas Park – Lohas Park・Phase 7B Grand Montara・Tower 1 (1B) Middle Floor・FLAT E', 'Lohas Park – Lohas Park・Phase 9A Marini・Tower 3 (3A) Low Floor・FLAT D', 'Lohas Park – Lohas Park・PHASE 6 LP6・Tower 3 Middle Floor・FLAT M', 'Lohas Park – LOHAS PARK・LOHAS PARK・TOWER 1 Middle Floor・FLAT D', 'Lohas Park – Lohas Park・Phase 7B Grand Montara・Tower 1 (1A) Middle Floor・FLAT A', 'Lohas Park – Lohas Park・Phase 5A Malibu・Tower 1B Middle Floor・FLAT E', 'Lohas Park – Lohas Park・Phase 7A Montara・Tower 2 (2B) High Floor・FLAT E', 'Lohas Park – Lohas Park・Phase 5A Malibu・Tower 2A Low Floor・FLAT C', 'Lohas Park – Lohas Park・Phase 5A Malibu・Tower 3B High Floor・FLAT D', 'Lohas Park – Lohas Park・Phase 3A Hemera・Topaz (Tower 5) Low Floor・FLAT LB', 'Lohas Park – Lohas Park・Phase 5A Malibu・Tower 1A High Floor・FLAT C', 'Lohas Park – Lohas Park・Phase 2C La Splendeur・Tower 11 Low Floor・FLAT LD', 'Lohas Park – Lohas Park・Phase 5A Malibu・Tower 2B Low Floor・FLAT E', 'Lohas Park – LOHAS PARK・LOHAS PARK・TOWER 3 High Floor・FLAT J', 'Lohas Park – Lohas Park・Phase 5A Malibu・Tower 1A High Floor・FLAT B', 'Lohas Park – Lohas Park・Phase 4B Wings At Sea II・Tower 3B High Floor・FLAT A', 'Lohas Park – Lohas Park・Phase 2C La Splendeur・Tower 9 Low Floor・FLAT LD', 'Lohas Park – LOHAS PARK・LOHAS PARK・EMERALD (TOWER 2) Middle Floor・FLAT RC', 'Lohas Park – LOHAS PARK・LOHAS PARK・TOWER 1 Middle Floor・FLAT D', 'Lohas Park – Lohas Park・Phase 2A  Le Prestige・Moon Light (Tower 1 -  L  Wing) Middle Floor・FLAT D', 'Lohas Park – Lohas Park・PHASE 6 LP6・Tower 5 Low Floor・FLAT H', 'Lohas Park – Lohas Park・Phase 7B Grand Montara・Tower 1 (1B) High Floor・FLAT E', 'Lohas Park – Lohas Park・Phase 4B Wings At Sea II・Tower 5A Low Floor・FLAT A', 'Lohas Park – LOHAS PARK・LOHAS PARK・STARRY NIGHT (TOWER 3 - R WING ', 'Lohas Park – Lohas Park・Phase 5A Malibu・Tower 1B High Floor・FLAT D', 'Lohas Park – LOHAS PARK・PHASE 7A MONTARA・TOWER 2 (2A) ', 'Lohas Park – Lohas Park・Phase 3A Hemera・Diamond (Tower 1) High Floor・FLAT RC', 'Lohas Park – Lohas Park・Phase 2C La Splendeur・Tower 9 Middle Floor・FLAT RD', 'Lohas Park – Lohas Park・Phase 2A  Le Prestige・Swan Lake (Tower 2 - L Wing) Middle Floor・FLAT B', 'Lohas Park – Lohas Park・Phase 2B Le Prime・Tower 8 - L Wing Middle Floor・FLAT B', 'Lohas Park – LOHAS PARK・LOHAS PARK・TOWER 3 Low Floor・FLAT B', 'Lohas Park – Lohas Park・Phase 1 The Capitol・Oslo (Tower 5 - L Wing) Middle Floor・FLAT D', 'Lohas Park – LOHAS PARK・LOHAS PARK・TOWER 5B Low Floor・FLAT A', 'Lohas Park – Lohas Park・Phase 7A Montara・Tower 2 (2A) High Floor・FLAT C', 'Lohas Park – Lohas Park・Phase 7A Montara・Tower 2 (2A) High Floor・FLAT B', 'Lohas Park – Lohas Park・Phase 1 The Capitol・Madrid (Tower 2 - R Wing) High Floor・FLAT B', 'Lohas Park – Lohas Park・Phase 5A Malibu・Tower 1B High Floor・FLAT D', 'Lohas Park – Lohas Park・PHASE 6 LP6・Tower 5 Low Floor・FLAT G', 'Lohas Park – Lohas Park・Phase 1 The Capitol・Vienna (Tower 6 - L Wing) Low Floor・FLAT B', 'Lohas Park – Lohas Park・PHASE 6 LP6・Tower 5 High Floor・FLAT H', 'Lohas Park – LOHAS PARK・LOHAS PARK・TOWER 5B Low Floor・FLAT A', 'Lohas Park – Lohas Park・Phase 2A  Le Prestige・Swan Lake (Tower 2 - L Wing) Middle Floor・FLAT A', 'Lohas Park – Lohas Park・Phase 1 The Capitol・Florence (Tower 1 - R Wing) Low Floor・FLAT B', 'Lohas Park – Lohas Park・Phase 7A Montara・Tower 2 (2A) High Floor・FLAT E', 'Lohas Park – Lohas Park・Phase 9A Marini・Tower 3 (3B) Low Floor・FLAT F', 'Lohas Park – Lohas Park・Phase 5A Malibu・Tower 3B Low Floor・FLAT B', 'Lohas Park – Lohas Park・PHASE 6 LP6・Tower 1 Low Floor・FLAT F', 'Lohas Park – Lohas Park・Phase 1 The Capitol・Lucerne (Tower 2 - L Wing) Middle Floor・FLAT B', 'Lohas Park – Lohas Park・Phase 5A Malibu・Tower 2B Middle Floor・FLAT A', 'Lohas Park – Lohas Park・Phase 9C Ocean Marini・Tower 1 (1B) Middle Floor・FLAT B', 'Lohas Park – LOHAS PARK・LOHAS PARK・AMBER (TOWER 3) High Floor・FLAT RA', 'Lohas Park – Lohas Park・Phase 2C La Splendeur・Tower 9 Low Floor・FLAT LB', 'Lohas Park – Lohas Park・Phase 7A Montara・Tower 2 (2A) FLAT D', 'Lohas Park – Lohas Park・PHASE 6 LP6・Tower 3 Middle Floor・FLAT C', 'Lohas Park – LOHAS PARK・LOHAS PARK・MADRID (TOWER 2 - R WING) Middle Floor・FLAT C', 'Lohas Park – Lohas Park・Phase 4B Wings At Sea II・Tower 3A High Floor・FLAT D', 'Lohas Park – LOHAS PARK・LOHAS PARK・DIAMOND (TOWER 1) High Floor・FLAT RD', 'Lohas Park – Lohas Park・Phase 7A Montara・Tower 2 (2B) Low Floor・FLAT E', 'Lohas Park – Lohas Park・PHASE 6 LP6・Tower 5 Low Floor・FLAT F', 'Lohas Park – Lohas Park・Phase 10 Lp10・Tower 2 (2A) Low Floor・FLAT C', 'Lohas Park – Lohas Park・Phase 4A Wings At Sea・Tower 1B High Floor・FLAT D', 'Lohas Park – Lohas Park・Phase 1 The Capitol・Milan (Tower 3 - L Wing) Low Floor・FLAT C', 'Lohas Park – LOHAS PARK・LOHAS PARK・TOWER 2B Middle Floor・FLAT C', 'Lohas Park – LOHAS PARK・LOHAS PARK・TOWER 3 High Floor・FLAT J', 'Lohas Park – Lohas Park・Phase 8 Sea To Sky・Tower 2 Low Floor・FLAT D', 'Lohas Park – LOHAS PARK・LOHAS PARK・TOWER 3 High Floor・FLAT L', 'Lohas Park – LOHAS PARK・LOHAS PARK・TOWER 5A High Floor・FLAT A', 'Lohas Park – LOHAS PARK・LOHAS PARK・TOWER 1 (1B) Middle Floor・FLAT B', 'Lohas Park – Lohas Park・Phase 4A Wings At Sea・Tower 2B High Floor・FLAT F', 'Lohas Park – Lohas Park・Phase 5A Malibu・Tower 3A Middle Floor・FLAT B', 'Lohas Park – Lohas Park・Phase 8 Sea To Sky・Tower 1 Low Floor・FLAT B', 'Lohas Park – Lohas Park・Phase 1 The Capitol・Vienna (Tower 6 - L Wing) Low Floor・FLAT D']\n"
          ]
        }
      ],
      "source": [
        "url4 = 'https://hk.centanet.com/findproperty/api/Post/Search'\n",
        "result=[]\n",
        "\n",
        "for page in range (10):\n",
        "\n",
        "    response4=requests.post(url4,json={\n",
        "        \"postType\":\"Sale\",\n",
        "        \"sort\":\"Ranking\",\n",
        "        \"order\":\"Ascending\",\n",
        "        \"size\":24,\n",
        "        \"displayTextStyle\":\"WebResultList\",\n",
        "        \"offset\":page*24,\n",
        "        \"pageSource\":\"search\",\n",
        "        \"keyword\":\"lohas park\"}, \n",
        "        headers={\n",
        "            \"Lang\":\"en\"})\n",
        "\n",
        "    for i in range (24):\n",
        "       result.append(response4.json()['data'][i]['share']['body'].split('\\r')[0])\n",
        "\n",
        "\n",
        "print(len(result))\n",
        "print(result)\n",
        "\n",
        "\n",
        "\n",
        "\n",
        "\n",
        "\n"
      ]
    },
    {
      "cell_type": "code",
      "execution_count": null,
      "metadata": {},
      "outputs": [],
      "source": []
    }
  ],
  "metadata": {
    "colab": {
      "provenance": []
    },
    "kernelspec": {
      "display_name": "Python 3",
      "name": "python3"
    },
    "language_info": {
      "codemirror_mode": {
        "name": "ipython",
        "version": 3
      },
      "file_extension": ".py",
      "mimetype": "text/x-python",
      "name": "python",
      "nbconvert_exporter": "python",
      "pygments_lexer": "ipython3",
      "version": "3.8.8"
    }
  },
  "nbformat": 4,
  "nbformat_minor": 0
}
